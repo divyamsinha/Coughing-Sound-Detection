{
 "cells": [
  {
   "cell_type": "code",
   "execution_count": null,
   "metadata": {
    "id": "vGEiHDEa09U3"
   },
   "outputs": [],
   "source": [
    "from google.colab import drive\n",
    "drive.mount('/content/drive')"
   ]
  },
  {
   "cell_type": "code",
   "execution_count": null,
   "metadata": {
    "id": "7vt_QzfI0_LH"
   },
   "outputs": [],
   "source": [
    "import os\n",
    "os.listdir('drive/My Drive')"
   ]
  },
  {
   "cell_type": "code",
   "execution_count": null,
   "metadata": {
    "id": "yuuCUjpX1Cry"
   },
   "outputs": [],
   "source": [
    "import os\n",
    "import pandas as pd\n",
    "import librosa\n",
    "import librosa.display\n",
    "import glob\n",
    "import numpy as np"
   ]
  },
  {
   "cell_type": "code",
   "execution_count": null,
   "metadata": {
    "id": "XQx0wH0c1FHw"
   },
   "outputs": [],
   "source": [
    "from pydub import AudioSegment"
   ]
  },
  {
   "cell_type": "code",
   "execution_count": null,
   "metadata": {
    "id": "gjPuULcv0UwA"
   },
   "outputs": [],
   "source": [
    "# Dataset created using silence removal\n",
    "\n",
    "count = 0 \n",
    "for i in cough:\n",
    "#silence removal\n",
    "    \n",
    "    audio ,sr = librosa.load('drive/My Drive/Coughing sound Dataset/'+i)\n",
    "    \n",
    "    x = librosa.effects.split(y = audio, frame_length=500, top_db=32)\n",
    "    #l = 6\n",
    "    #librosa.display.waveplot(np.array(audio[x[l][0]:x[l][1]]),sr = sr)\n",
    "    for i in x:\n",
    "        \n",
    "        sound = np.array(audio[i[0]:i[1]])\n",
    "        librosa.output.write_wav(\"drive/My Drive/Cough Sound/{0}.wav\".format(count), sound, sr, norm=False)\n",
    "        count+=1"
   ]
  },
  {
   "cell_type": "code",
   "execution_count": null,
   "metadata": {
    "id": "sLtNnf9B0b0V"
   },
   "outputs": [],
   "source": [
    "cough_pure = os.listdir('drive/My Drive/Cough Sound')"
   ]
  },
  {
   "cell_type": "code",
   "execution_count": null,
   "metadata": {
    "id": "EuAxBS1qeo_-"
   },
   "outputs": [],
   "source": [
    "os.listdir('drive/My Drive')"
   ]
  },
  {
   "cell_type": "code",
   "execution_count": null,
   "metadata": {
    "id": "ea5A1H3X1HZZ"
   },
   "outputs": [],
   "source": [
    "pip install pydub"
   ]
  },
  {
   "cell_type": "code",
   "execution_count": null,
   "metadata": {
    "colab": {
     "base_uri": "https://localhost:8080/",
     "height": 1000
    },
    "id": "XANHzhhyeMeA",
    "outputId": "52c2d45e-7ae8-4e12-9e63-7e7323bb81d3"
   },
   "outputs": [],
   "source": [
    "#Mixing pure Coughing Sound with Noise and saving\n",
    "count = 0\n",
    "for i in cough_pure:\n",
    "    try:\n",
    "        sound1 = AudioSegment.from_wav('drive/My Drive/Cough Sound/' + i)\n",
    "        print(i)\n",
    "    except(FileNotFoundError):\n",
    "        print(\"not processed\", end = '-')\n",
    "        print(i)\n",
    "    noise_list = np.random.randint(0, 959, 3)\n",
    "    for idx in noise_list:\n",
    "        sound2 = AudioSegment.from_wav('drive/My Drive/Noise dataset/FSDnoisy18k.audio_test/'+noise[idx])\n",
    "        sound1 = sound1.overlay(sound2)\n",
    "        print('File Saved - :Dataset/{0}.wav'.format(count))    \n",
    "        sound1.export(\"drive/My Drive/Cough Sound with noise/{0}.wav\".format(count) , format = 'wav')\n",
    "        count+=1"
   ]
  },
  {
   "cell_type": "code",
   "execution_count": null,
   "metadata": {
    "colab": {
     "base_uri": "https://localhost:8080/",
     "height": 1000
    },
    "id": "nJJnwp8ge2uR",
    "outputId": "b0126479-a2c2-4aef-b047-67e88b46c16a"
   },
   "outputs": [],
   "source": [
    "#Adding pure coughing sound in the same folder as mixed sound\n",
    "for i in cough_pure:\n",
    "    sound = AudioSegment.from_wav('drive/My Drive/Cough Sound/' + i)\n",
    "    print('File Saved - :Dataset/{0}.wav'.format(count))    \n",
    "    sound.export(\"drive/My Drive/Cough Sound with noise/{0}.wav\".format(count) , format = 'wav')\n",
    "    count+=1"
   ]
  },
  {
   "cell_type": "code",
   "execution_count": null,
   "metadata": {
    "id": "dgKCOI-uhH1a"
   },
   "outputs": [],
   "source": []
  }
 ],
 "metadata": {
  "accelerator": "GPU",
  "colab": {
   "collapsed_sections": [],
   "name": "Copy of Coughing Dataset Creation.ipynb",
   "provenance": []
  },
  "kernelspec": {
   "display_name": "Python 3",
   "language": "python",
   "name": "python3"
  },
  "language_info": {
   "codemirror_mode": {
    "name": "ipython",
    "version": 3
   },
   "file_extension": ".py",
   "mimetype": "text/x-python",
   "name": "python",
   "nbconvert_exporter": "python",
   "pygments_lexer": "ipython3",
   "version": "3.7.4"
  }
 },
 "nbformat": 4,
 "nbformat_minor": 1
}

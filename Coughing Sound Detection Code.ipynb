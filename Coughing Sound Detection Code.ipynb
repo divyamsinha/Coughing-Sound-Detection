{
 "cells": [
  {
   "cell_type": "code",
   "execution_count": 10,
   "metadata": {
    "colab": {
     "base_uri": "https://localhost:8080/",
     "height": 34
    },
    "colab_type": "code",
    "id": "zFOhAa6fr2Pk",
    "outputId": "c1c3c383-1a43-47e1-aaa4-e5a1b207bd5d"
   },
   "outputs": [
    {
     "name": "stdout",
     "output_type": "stream",
     "text": [
      "Drive already mounted at /content/drive; to attempt to forcibly remount, call drive.mount(\"/content/drive\", force_remount=True).\n"
     ]
    }
   ],
   "source": [
    "from google.colab import drive\n",
    "drive.mount('/content/drive')"
   ]
  },
  {
   "cell_type": "code",
   "execution_count": 11,
   "metadata": {
    "colab": {
     "base_uri": "https://localhost:8080/",
     "height": 170
    },
    "colab_type": "code",
    "id": "UOwJirt78QNN",
    "outputId": "b8875e4b-8658-43de-b088-9414491c76fe"
   },
   "outputs": [
    {
     "name": "stdout",
     "output_type": "stream",
     "text": [
      "Collecting python_speech_features\n",
      "  Downloading https://files.pythonhosted.org/packages/ff/d1/94c59e20a2631985fbd2124c45177abaa9e0a4eee8ba8a305aa26fc02a8e/python_speech_features-0.6.tar.gz\n",
      "Building wheels for collected packages: python-speech-features\n",
      "  Building wheel for python-speech-features (setup.py) ... \u001b[?25l\u001b[?25hdone\n",
      "  Created wheel for python-speech-features: filename=python_speech_features-0.6-cp36-none-any.whl size=5887 sha256=b79316bc51f17b8c4b65f601308017d82a7b58f7b0d66bb533892f7c250fc56b\n",
      "  Stored in directory: /root/.cache/pip/wheels/3c/42/7c/f60e9d1b40015cd69b213ad90f7c18a9264cd745b9888134be\n",
      "Successfully built python-speech-features\n",
      "Installing collected packages: python-speech-features\n",
      "Successfully installed python-speech-features-0.6\n"
     ]
    }
   ],
   "source": [
    "pip install python_speech_features"
   ]
  },
  {
   "cell_type": "code",
   "execution_count": 0,
   "metadata": {
    "colab": {},
    "colab_type": "code",
    "id": "0oaPnsjSsH7K"
   },
   "outputs": [],
   "source": [
    "import os\n",
    "import matplotlib.pyplot as plt\n",
    "import numpy as np\n",
    "import glob\n",
    "import librosa\n",
    "import librosa.display\n",
    "from python_speech_features import mfcc"
   ]
  },
  {
   "cell_type": "code",
   "execution_count": 0,
   "metadata": {
    "colab": {},
    "colab_type": "code",
    "id": "tI1nqZ1ZsTM3"
   },
   "outputs": [],
   "source": [
    "cough = os.listdir('drive/My Drive/Coughing Dataset')\n",
    "noise = os.listdir('drive/My Drive/Noise dataset/FSDnoisy18k.audio_test')"
   ]
  },
  {
   "cell_type": "code",
   "execution_count": 14,
   "metadata": {
    "colab": {
     "base_uri": "https://localhost:8080/",
     "height": 34
    },
    "colab_type": "code",
    "id": "GC2DqZQ1su2b",
    "outputId": "a7bed5f3-d2e5-45b2-a371-ef7fdb43aca0"
   },
   "outputs": [
    {
     "name": "stderr",
     "output_type": "stream",
     "text": [
      "Using TensorFlow backend.\n"
     ]
    }
   ],
   "source": [
    "from keras.preprocessing.sequence import pad_sequences"
   ]
  },
  {
   "cell_type": "markdown",
   "metadata": {
    "colab_type": "text",
    "id": "PhxmyHbwtHOd"
   },
   "source": [
    "\n",
    "\n",
    "\n",
    "1.   Cough - 1\n",
    "2.   Noise - 0 \n",
    "\n",
    "\n"
   ]
  },
  {
   "cell_type": "code",
   "execution_count": null,
   "metadata": {
    "colab": {
     "base_uri": "https://localhost:8080/",
     "height": 1000
    },
    "colab_type": "code",
    "id": "MApHcUjlvXzK",
    "outputId": "a71d0ec9-901f-4d81-f7d8-d6682d80ae7c"
   },
   "outputs": [],
   "source": [
    "count = 0 \n",
    "X = []\n",
    "y = []\n",
    "for i in cough:\n",
    "    print(count)\n",
    "    audio , sr = librosa.load('drive/My Drive/Coughing Dataset/' + i)\n",
    "    mfccs = mfcc(audio, samplerate=sr, winlen=0.025, winstep=0.01, numcep=13, nfilt=26, nfft=552, lowfreq=0, highfreq=None, preemph=0.97, ceplifter=22, appendEnergy=True)\n",
    "    X.append(np.array(mfccs))\n",
    "    y.append(1)\n",
    "    count+=1\n",
    "cough = os.listdir('drive/My Drive/Coughing Dataset')\n",
    "noise = os.listdir('drive/My Drive/Noise dataset/FSDnoisy18k.audio_test')\n",
    "for i in noise:\n",
    "    print(count)\n",
    "    audio ,sr = librosa.load('drive/My Drive/Noise dataset/FSDnoisy18k.audio_test/' + i)\n",
    "    mfccs = mfcc(audio, samplerate=sr, winlen=0.025, winstep=0.01, numcep=13, nfilt=26, nfft=512, lowfreq=0, highfreq=None, preemph=0.97, ceplifter=22, appendEnergy=True)\n",
    "    X.append(np.array(mfccs))\n",
    "    y.append(0)\n",
    "    count+=1  "
   ]
  },
  {
   "cell_type": "code",
   "execution_count": 0,
   "metadata": {
    "colab": {},
    "colab_type": "code",
    "id": "xsyUnYDxyNES"
   },
   "outputs": [],
   "source": [
    "XTrain = pad_sequences(X,maxlen=10000,padding = 'post')"
   ]
  },
  {
   "cell_type": "code",
   "execution_count": 0,
   "metadata": {
    "colab": {},
    "colab_type": "code",
    "id": "OMAAqq_zyyuL"
   },
   "outputs": [],
   "source": [
    "XTrain = np.array(XTrain)\n",
    "yTrain = np.array(y)"
   ]
  },
  {
   "cell_type": "code",
   "execution_count": 0,
   "metadata": {
    "colab": {},
    "colab_type": "code",
    "id": "hvs5BVTFZwLJ"
   },
   "outputs": [],
   "source": [
    "## Model"
   ]
  },
  {
   "cell_type": "code",
   "execution_count": 0,
   "metadata": {
    "colab": {},
    "colab_type": "code",
    "id": "1ipJdn9McAVV"
   },
   "outputs": [],
   "source": [
    "from keras.models import Model,Sequential\n",
    "from keras.optimizers import Adam\n",
    "from sklearn.model_selection import train_test_split\n",
    "from keras.layers import *\n",
    "from keras.utils import to_categorical"
   ]
  },
  {
   "cell_type": "code",
   "execution_count": 0,
   "metadata": {
    "colab": {},
    "colab_type": "code",
    "id": "b_OOfsgXdGjO"
   },
   "outputs": [],
   "source": [
    "yTrain = to_categorical(yTrain)"
   ]
  },
  {
   "cell_type": "code",
   "execution_count": 79,
   "metadata": {
    "colab": {
     "base_uri": "https://localhost:8080/",
     "height": 731
    },
    "colab_type": "code",
    "id": "XktyMGchC8-6",
    "outputId": "df0ad5e5-6f1c-4dc0-f73e-763027d28844"
   },
   "outputs": [
    {
     "name": "stdout",
     "output_type": "stream",
     "text": [
      "Model: \"sequential_13\"\n",
      "_________________________________________________________________\n",
      "Layer (type)                 Output Shape              Param #   \n",
      "=================================================================\n",
      "conv1d_37 (Conv1D)           (None, 9988, 8)           1360      \n",
      "_________________________________________________________________\n",
      "max_pooling1d_37 (MaxPooling (None, 4994, 8)           0         \n",
      "_________________________________________________________________\n",
      "dropout_49 (Dropout)         (None, 4994, 8)           0         \n",
      "_________________________________________________________________\n",
      "conv1d_38 (Conv1D)           (None, 4982, 16)          1680      \n",
      "_________________________________________________________________\n",
      "max_pooling1d_38 (MaxPooling (None, 2491, 16)          0         \n",
      "_________________________________________________________________\n",
      "dropout_50 (Dropout)         (None, 2491, 16)          0         \n",
      "_________________________________________________________________\n",
      "conv1d_39 (Conv1D)           (None, 2479, 8)           1672      \n",
      "_________________________________________________________________\n",
      "max_pooling1d_39 (MaxPooling (None, 1239, 8)           0         \n",
      "_________________________________________________________________\n",
      "dropout_51 (Dropout)         (None, 1239, 8)           0         \n",
      "_________________________________________________________________\n",
      "batch_normalization_21 (Batc (None, 1239, 8)           32        \n",
      "_________________________________________________________________\n",
      "lstm_38 (LSTM)               (None, 1239, 128)         70144     \n",
      "_________________________________________________________________\n",
      "lstm_39 (LSTM)               (None, 1239, 128)         131584    \n",
      "_________________________________________________________________\n",
      "lstm_40 (LSTM)               (None, 1239, 128)         131584    \n",
      "_________________________________________________________________\n",
      "dropout_52 (Dropout)         (None, 1239, 128)         0         \n",
      "_________________________________________________________________\n",
      "flatten_9 (Flatten)          (None, 158592)            0         \n",
      "_________________________________________________________________\n",
      "dense_29 (Dense)             (None, 512)               81199616  \n",
      "_________________________________________________________________\n",
      "dense_30 (Dense)             (None, 2)                 1026      \n",
      "=================================================================\n",
      "Total params: 81,538,698\n",
      "Trainable params: 81,538,682\n",
      "Non-trainable params: 16\n",
      "_________________________________________________________________\n"
     ]
    }
   ],
   "source": [
    "model = Sequential()\n",
    "\n",
    "model.add(Conv1D(8,13, padding = 'valid' , activation = 'relu' , strides = 1 , input_shape = (10000,13)))\n",
    "model.add(MaxPooling1D())\n",
    "model.add(Dropout(0.3))\n",
    "model.add(Conv1D(16,13, padding = 'valid' , activation = 'relu' , strides = 1 ))\n",
    "model.add(MaxPooling1D())\n",
    "model.add(Dropout(0.3))\n",
    "model.add(Conv1D(8,13, padding = 'valid' , activation = 'relu' , strides = 1 ))\n",
    "model.add(MaxPooling1D())\n",
    "model.add(Dropout(0.3))\n",
    "model.add(BatchNormalization(axis=-1, momentum=0.99, epsilon=0.001, center=True, scale=True))\n",
    "model.add(LSTM(128, return_sequences=True))\n",
    "model.add(LSTM(128, return_sequences=True))\n",
    "model.add(LSTM(128, return_sequences=True))\n",
    "model.add(Dropout(0.5))\n",
    "model.add(Flatten())\n",
    "model.add(Dense(512, activation = 'relu'))\n",
    "model.add(Dense(2 , activation = 'softmax'))\n",
    "model.compile(loss = 'binary_crossentropy' , optimizer = 'adam' , metrics = ['accuracy'])\n",
    "model.summary()"
   ]
  },
  {
   "cell_type": "code",
   "execution_count": 0,
   "metadata": {
    "colab": {},
    "colab_type": "code",
    "id": "00bWMalMeG-S"
   },
   "outputs": [],
   "source": [
    "X_train, X_test, y_train, y_test = train_test_split(XTrain, yTrain, test_size=0.2, random_state=42)"
   ]
  },
  {
   "cell_type": "code",
   "execution_count": 0,
   "metadata": {
    "colab": {},
    "colab_type": "code",
    "id": "u0wz0_aKePPY"
   },
   "outputs": [],
   "source": [
    "from keras.callbacks import ModelCheckpoint,EarlyStopping\n",
    "#model.compile(optimizer='adam' , loss = 'binary_crossentropy' , metrics=['accuracy'])"
   ]
  },
  {
   "cell_type": "code",
   "execution_count": 82,
   "metadata": {
    "colab": {
     "base_uri": "https://localhost:8080/",
     "height": 782
    },
    "colab_type": "code",
    "id": "kuWvO6S5um76",
    "outputId": "9fe9e2c4-995c-409e-ccba-292f784f7136"
   },
   "outputs": [
    {
     "name": "stdout",
     "output_type": "stream",
     "text": [
      "Train on 1332 samples, validate on 333 samples\n",
      "Epoch 1/11\n",
      "1332/1332 [==============================] - 251s 188ms/step - loss: 0.7438 - accuracy: 0.7177 - val_loss: 0.5212 - val_accuracy: 0.7688\n",
      "\n",
      "Epoch 00001: val_accuracy improved from -inf to 0.76877, saving model to save_best.h5\n",
      "Epoch 2/11\n",
      "1332/1332 [==============================] - 251s 189ms/step - loss: 0.4092 - accuracy: 0.8146 - val_loss: 0.4261 - val_accuracy: 0.8078\n",
      "\n",
      "Epoch 00002: val_accuracy improved from 0.76877 to 0.80781, saving model to save_best.h5\n",
      "Epoch 3/11\n",
      "1332/1332 [==============================] - 254s 190ms/step - loss: 0.3717 - accuracy: 0.8333 - val_loss: 0.3844 - val_accuracy: 0.7928\n",
      "\n",
      "Epoch 00003: val_accuracy did not improve from 0.80781\n",
      "Epoch 4/11\n",
      "1332/1332 [==============================] - 256s 192ms/step - loss: 0.3081 - accuracy: 0.8694 - val_loss: 0.2788 - val_accuracy: 0.8919\n",
      "\n",
      "Epoch 00004: val_accuracy improved from 0.80781 to 0.89189, saving model to save_best.h5\n",
      "Epoch 5/11\n",
      "1332/1332 [==============================] - 256s 192ms/step - loss: 0.2452 - accuracy: 0.8941 - val_loss: 0.3030 - val_accuracy: 0.8619\n",
      "\n",
      "Epoch 00005: val_accuracy did not improve from 0.89189\n",
      "Epoch 6/11\n",
      "1332/1332 [==============================] - 255s 191ms/step - loss: 0.2166 - accuracy: 0.9174 - val_loss: 0.1649 - val_accuracy: 0.9339\n",
      "\n",
      "Epoch 00006: val_accuracy improved from 0.89189 to 0.93393, saving model to save_best.h5\n",
      "Epoch 7/11\n",
      "1332/1332 [==============================] - 257s 193ms/step - loss: 0.2087 - accuracy: 0.9257 - val_loss: 0.1334 - val_accuracy: 0.9489\n",
      "\n",
      "Epoch 00007: val_accuracy improved from 0.93393 to 0.94895, saving model to save_best.h5\n",
      "Epoch 8/11\n",
      "1332/1332 [==============================] - 254s 191ms/step - loss: 0.1850 - accuracy: 0.9407 - val_loss: 0.1637 - val_accuracy: 0.9640\n",
      "\n",
      "Epoch 00008: val_accuracy improved from 0.94895 to 0.96396, saving model to save_best.h5\n",
      "Epoch 9/11\n",
      "1332/1332 [==============================] - 256s 192ms/step - loss: 0.1811 - accuracy: 0.9279 - val_loss: 0.1585 - val_accuracy: 0.9399\n",
      "\n",
      "Epoch 00009: val_accuracy did not improve from 0.96396\n",
      "Epoch 10/11\n",
      "1332/1332 [==============================] - 261s 196ms/step - loss: 0.1725 - accuracy: 0.9399 - val_loss: 0.1315 - val_accuracy: 0.9580\n",
      "\n",
      "Epoch 00010: val_accuracy did not improve from 0.96396\n",
      "Epoch 11/11\n",
      "1332/1332 [==============================] - 256s 192ms/step - loss: 0.1276 - accuracy: 0.9505 - val_loss: 0.0757 - val_accuracy: 0.9790\n",
      "\n",
      "Epoch 00011: val_accuracy improved from 0.96396 to 0.97898, saving model to save_best.h5\n"
     ]
    }
   ],
   "source": [
    "checkpoint = ModelCheckpoint('save_best.h5', monitor = 'val_accuracy',verbose = 1 , save_best_only=True)\n",
    "call_list = [checkpoint]\n",
    "\n",
    "hist = model.fit(X_train , y_train , epochs=11 , callbacks=call_list , validation_data=(X_test,y_test))"
   ]
  },
  {
   "cell_type": "code",
   "execution_count": 0,
   "metadata": {
    "colab": {},
    "colab_type": "code",
    "id": "CRLlVtkNhG5n"
   },
   "outputs": [],
   "source": [
    "model.load_weights('save_best.h5')"
   ]
  },
  {
   "cell_type": "code",
   "execution_count": 84,
   "metadata": {
    "colab": {
     "base_uri": "https://localhost:8080/",
     "height": 51
    },
    "colab_type": "code",
    "id": "nv1UAB9Oix9m",
    "outputId": "5ad49041-4868-47bf-b98d-2ea9b080b76d"
   },
   "outputs": [
    {
     "name": "stdout",
     "output_type": "stream",
     "text": [
      "333/333 [==============================] - 5s 15ms/step\n"
     ]
    },
    {
     "data": {
      "text/plain": [
       "[0.07574432365618669, 0.9789789915084839]"
      ]
     },
     "execution_count": 84,
     "metadata": {
      "tags": []
     },
     "output_type": "execute_result"
    }
   ],
   "source": [
    "model.evaluate(X_test,y_test)"
   ]
  },
  {
   "cell_type": "code",
   "execution_count": 0,
   "metadata": {
    "colab": {},
    "colab_type": "code",
    "id": "QrA3eG9dHFx6"
   },
   "outputs": [],
   "source": [
    "import matplotlib.pyplot as plt"
   ]
  },
  {
   "cell_type": "code",
   "execution_count": 0,
   "metadata": {
    "colab": {},
    "colab_type": "code",
    "id": "J_teMRRAYc1I"
   },
   "outputs": [],
   "source": [
    "val_loss = hist.history['val_loss']\n",
    "val_acc = hist.history['val_accuracy']\n",
    "loss = hist.history['loss']\n",
    "accuracy = hist.history['accuracy']"
   ]
  },
  {
   "cell_type": "code",
   "execution_count": 53,
   "metadata": {
    "colab": {
     "base_uri": "https://localhost:8080/",
     "height": 283
    },
    "colab_type": "code",
    "id": "h75cjVeWYgU_",
    "outputId": "76bdf943-f022-4e7b-a433-ac76c6b84fe6"
   },
   "outputs": [
    {
     "data": {
      "text/plain": [
       "[<matplotlib.lines.Line2D at 0x7f4ae28ca978>]"
      ]
     },
     "execution_count": 53,
     "metadata": {
      "tags": []
     },
     "output_type": "execute_result"
    },
    {
     "data": {
      "image/png": "[encoded data removed]",
      "text/plain": [
       "<Figure size 432x288 with 1 Axes>"
      ]
     },
     "metadata": {
      "needs_background": "light",
      "tags": []
     },
     "output_type": "display_data"
    }
   ],
   "source": [
    "plt.plot(val_loss)\n",
    "plt.plot(val_acc)\n",
    "plt.plot(loss)\n",
    "plt.plot(accuracy)"
   ]
  },
  {
   "cell_type": "code",
   "execution_count": null,
   "metadata": {},
   "outputs": [],
   "source": []
  },
  {
   "cell_type": "code",
   "execution_count": null,
   "metadata": {},
   "outputs": [],
   "source": []
  }
 ],
 "metadata": {
  "accelerator": "GPU",
  "colab": {
   "collapsed_sections": [],
   "name": "Untitled3.ipynb",
   "provenance": []
  },
  "kernelspec": {
   "display_name": "Python 3",
   "language": "python",
   "name": "python3"
  },
  "language_info": {
   "codemirror_mode": {
    "name": "ipython",
    "version": 3
   },
   "file_extension": ".py",
   "mimetype": "text/x-python",
   "name": "python",
   "nbconvert_exporter": "python",
   "pygments_lexer": "ipython3",
   "version": "3.7.4"
  }
 },
 "nbformat": 4,
 "nbformat_minor": 1
}
